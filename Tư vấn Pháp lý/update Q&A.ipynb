{
 "cells": [
  {
   "cell_type": "code",
   "execution_count": 2,
   "id": "54435faf-9a7b-4081-8d4a-80bf496fc500",
   "metadata": {},
   "outputs": [
    {
     "name": "stdout",
     "output_type": "stream",
     "text": [
      "\n",
      "🔹 Quản lý câu hỏi - câu trả lời:\n",
      "1. 📌 Xem danh sách câu hỏi\n",
      "2. ✍️ Chỉnh sửa câu trả lời\n",
      "3. ➕ Thêm câu hỏi mới\n",
      "4. 🗑️ Xóa câu hỏi\n",
      "5. 🚪 Thoát\n"
     ]
    },
    {
     "name": "stdin",
     "output_type": "stream",
     "text": [
      "🔎 Chọn một chức năng:  1\n"
     ]
    },
    {
     "name": "stdout",
     "output_type": "stream",
     "text": [
      "\n",
      "📌 Danh sách câu hỏi:\n",
      "1. Di chúc cần đáp ứng những quy định nào để hợp lệ?\n",
      "2. Nếu có người bị mất tích trong hàng thừa kế thì phải làm sao?\n",
      "3. Ai được quyền thừa kế đất đai theo pháp luật Việt Nam?\n",
      "4. đối tượng được thừa hưởng quyền thừa kế ?\n",
      "5. tôi muốn thông tin về quyền sử dụng đất\n",
      "6. những đối tượng được hưởng thừa kế theo pháp luật\n",
      "7. Di chúc cần đáp ứng những tiêu chuẩn nào để hợp pháp\n",
      "8. Quyền có họ, tên\n",
      "9. Điều 25.Quyền nhân thân\n",
      "10. Tại sao đất đai ở Việt Nam thuộc sở hữu toàn dân do Nhà nước quản lý?\n",
      "11. hi Nhà nước thu hồi đất, người dân có quyền lợi gì? Chính sách bồi thường được áp dụng như thế nào?\n",
      "12. Nhà nước quy định giá đất như thế nào? Có những bất cập gì trong việc định giá đất?\n",
      "\n",
      "🔹 Quản lý câu hỏi - câu trả lời:\n",
      "1. 📌 Xem danh sách câu hỏi\n",
      "2. ✍️ Chỉnh sửa câu trả lời\n",
      "3. ➕ Thêm câu hỏi mới\n",
      "4. 🗑️ Xóa câu hỏi\n",
      "5. 🚪 Thoát\n"
     ]
    },
    {
     "name": "stdin",
     "output_type": "stream",
     "text": [
      "🔎 Chọn một chức năng:  2\n"
     ]
    },
    {
     "name": "stdout",
     "output_type": "stream",
     "text": [
      "\n",
      "📌 Danh sách câu hỏi:\n",
      "1. Di chúc cần đáp ứng những quy định nào để hợp lệ?\n",
      "2. Nếu có người bị mất tích trong hàng thừa kế thì phải làm sao?\n",
      "3. Ai được quyền thừa kế đất đai theo pháp luật Việt Nam?\n",
      "4. đối tượng được thừa hưởng quyền thừa kế ?\n",
      "5. tôi muốn thông tin về quyền sử dụng đất\n",
      "6. những đối tượng được hưởng thừa kế theo pháp luật\n",
      "7. Di chúc cần đáp ứng những tiêu chuẩn nào để hợp pháp\n",
      "8. Quyền có họ, tên\n",
      "9. Điều 25.Quyền nhân thân\n",
      "10. Tại sao đất đai ở Việt Nam thuộc sở hữu toàn dân do Nhà nước quản lý?\n",
      "11. hi Nhà nước thu hồi đất, người dân có quyền lợi gì? Chính sách bồi thường được áp dụng như thế nào?\n",
      "12. Nhà nước quy định giá đất như thế nào? Có những bất cập gì trong việc định giá đất?\n"
     ]
    },
    {
     "name": "stdin",
     "output_type": "stream",
     "text": [
      "\n",
      "🔎 Nhập số thứ tự của câu hỏi cần chỉnh sửa:  1\n",
      "✍️ Nhập câu trả lời mới:  Theo Bộ luật Dân sự năm 2015, một di chúc hợp lệ cần đáp ứng các điều kiện sau: - Người lập di chúc phải có đầy đủ năng lực hành vi dân sự và minh mẫn khi lập di chúc. - Hình thức di chúc có thể bằng văn bản hoặc bằng miệng (trong trường hợp đặc biệt). Di chúc bằng văn bản có thể có hoặc không có người làm chứng, có công chứng hoặc chứng thực. - Nội dung di chúc phải thể hiện rõ ràng ý chí của người lập di chúc, bao gồm thông tin về người thừa kế, tài sản để lại và các điều kiện kèm theo. - Di chúc miệng chỉ hợp lệ nếu được lập trong tình huống người lập di chúc bị đe dọa đến tính mạng và có ít nhất hai người làm chứng. Trong vòng 05 ngày, di chúc này phải được ghi lại bằng văn bản và chứng thực. - Không vi phạm điều cấm của pháp luật: Di chúc không được chứa nội dung trái pháp luật hoặc đạo đức xã hội.\n"
     ]
    },
    {
     "name": "stdout",
     "output_type": "stream",
     "text": [
      "✅ Đã cập nhật câu trả lời thành công!\n",
      "\n",
      "🔹 Quản lý câu hỏi - câu trả lời:\n",
      "1. 📌 Xem danh sách câu hỏi\n",
      "2. ✍️ Chỉnh sửa câu trả lời\n",
      "3. ➕ Thêm câu hỏi mới\n",
      "4. 🗑️ Xóa câu hỏi\n",
      "5. 🚪 Thoát\n"
     ]
    },
    {
     "name": "stdin",
     "output_type": "stream",
     "text": [
      "🔎 Chọn một chức năng:  5\n"
     ]
    },
    {
     "name": "stdout",
     "output_type": "stream",
     "text": [
      "👋 Đã thoát chương trình!\n"
     ]
    }
   ],
   "source": [
    "import csv\n",
    "import os\n",
    "from datetime import datetime\n",
    "\n",
    "QA_DB_FILE = \"qa_database.csv\"\n",
    "\n",
    "def load_qa_database(filename):\n",
    "    \"\"\"Đọc dữ liệu từ file CSV nếu tồn tại.\"\"\"\n",
    "    data = []\n",
    "    if os.path.exists(filename):\n",
    "        with open(filename, mode='r', encoding='utf-8') as csvfile:\n",
    "            reader = csv.DictReader(csvfile)\n",
    "            for row in reader:\n",
    "                data.append(row)\n",
    "    return data\n",
    "\n",
    "def save_qa_database(filename, data):\n",
    "    \"\"\"Ghi danh sách các câu hỏi – câu trả lời vào file CSV.\"\"\"\n",
    "    fieldnames = [\"question\", \"answer\", \"created_at\", \"updated_at\"]\n",
    "    with open(filename, mode=\"w\", newline=\"\", encoding=\"utf-8\") as csvfile:\n",
    "        writer = csv.DictWriter(csvfile, fieldnames=fieldnames)\n",
    "        writer.writeheader()\n",
    "        for row in data:\n",
    "            writer.writerow(row)\n",
    "\n",
    "def display_all_questions():\n",
    "    \"\"\"Hiển thị danh sách câu hỏi từ file CSV.\"\"\"\n",
    "    data = load_qa_database(QA_DB_FILE)\n",
    "    if not data:\n",
    "        print(\"⚠️ Không có câu hỏi nào trong cơ sở dữ liệu.\")\n",
    "        return\n",
    "\n",
    "    print(\"\\n📌 Danh sách câu hỏi:\")\n",
    "    for index, entry in enumerate(data, start=1):\n",
    "        print(f\"{index}. {entry['question']}\")\n",
    "\n",
    "def edit_question():\n",
    "    \"\"\"Chỉnh sửa câu trả lời cho câu hỏi đã có trong CSV.\"\"\"\n",
    "    data = load_qa_database(QA_DB_FILE)\n",
    "    if not data:\n",
    "        print(\"⚠️ Không có câu hỏi nào để chỉnh sửa.\")\n",
    "        return\n",
    "\n",
    "    display_all_questions()\n",
    "    try:\n",
    "        choice = int(input(\"\\n🔎 Nhập số thứ tự của câu hỏi cần chỉnh sửa: \")) - 1\n",
    "        if choice < 0 or choice >= len(data):\n",
    "            print(\"⚠️ Lựa chọn không hợp lệ!\")\n",
    "            return\n",
    "\n",
    "        new_answer = input(\"✍️ Nhập câu trả lời mới: \")\n",
    "        data[choice][\"answer\"] = new_answer\n",
    "        data[choice][\"updated_at\"] = datetime.now().isoformat()\n",
    "        save_qa_database(QA_DB_FILE, data)\n",
    "        print(\"✅ Đã cập nhật câu trả lời thành công!\")\n",
    "    \n",
    "    except ValueError:\n",
    "        print(\"⚠️ Vui lòng nhập số thứ tự hợp lệ!\")\n",
    "\n",
    "def add_new_question():\n",
    "    \"\"\"Thêm câu hỏi mới vào CSV.\"\"\"\n",
    "    new_question = input(\"🔹 Nhập câu hỏi mới: \")\n",
    "    new_answer = input(\"✍️ Nhập câu trả lời: \")\n",
    "    now_str = datetime.now().isoformat()\n",
    "\n",
    "    data = load_qa_database(QA_DB_FILE)\n",
    "    data.append({\n",
    "        \"question\": new_question,\n",
    "        \"answer\": new_answer,\n",
    "        \"created_at\": now_str,\n",
    "        \"updated_at\": now_str\n",
    "    })\n",
    "\n",
    "    save_qa_database(QA_DB_FILE, data)\n",
    "    print(\"✅ Đã thêm câu hỏi mới thành công!\")\n",
    "\n",
    "def delete_question():\n",
    "    \"\"\"Xóa câu hỏi khỏi CSV.\"\"\"\n",
    "    data = load_qa_database(QA_DB_FILE)\n",
    "    if not data:\n",
    "        print(\"⚠️ Không có câu hỏi nào để xóa.\")\n",
    "        return\n",
    "\n",
    "    display_all_questions()\n",
    "    try:\n",
    "        choice = int(input(\"\\n🗑️ Nhập số thứ tự của câu hỏi cần xóa: \")) - 1\n",
    "        if choice < 0 or choice >= len(data):\n",
    "            print(\"⚠️ Lựa chọn không hợp lệ!\")\n",
    "            return\n",
    "\n",
    "        deleted_question = data.pop(choice)\n",
    "        save_qa_database(QA_DB_FILE, data)\n",
    "        print(f\"✅ Đã xóa câu hỏi: \\\"{deleted_question['question']}\\\"\")\n",
    "    \n",
    "    except ValueError:\n",
    "        print(\"⚠️ Vui lòng nhập số thứ tự hợp lệ!\")\n",
    "\n",
    "def main():\n",
    "    \"\"\"Giao diện dòng lệnh để quản lý câu hỏi - câu trả lời.\"\"\"\n",
    "    while True:\n",
    "        print(\"\\n🔹 Quản lý câu hỏi - câu trả lời:\")\n",
    "        print(\"1. 📌 Xem danh sách câu hỏi\")\n",
    "        print(\"2. ✍️ Chỉnh sửa câu trả lời\")\n",
    "        print(\"3. ➕ Thêm câu hỏi mới\")\n",
    "        print(\"4. 🗑️ Xóa câu hỏi\")\n",
    "        print(\"5. 🚪 Thoát\")\n",
    "\n",
    "        choice = input(\"🔎 Chọn một chức năng: \")\n",
    "        \n",
    "        if choice == \"1\":\n",
    "            display_all_questions()\n",
    "        elif choice == \"2\":\n",
    "            edit_question()\n",
    "        elif choice == \"3\":\n",
    "            add_new_question()\n",
    "        elif choice == \"4\":\n",
    "            delete_question()\n",
    "        elif choice == \"5\":\n",
    "            print(\"👋 Đã thoát chương trình!\")\n",
    "            break\n",
    "        else:\n",
    "            print(\"⚠️ Lựa chọn không hợp lệ! Vui lòng nhập số từ 1-5.\")\n",
    "\n",
    "if __name__ == \"__main__\":\n",
    "    main()"
   ]
  },
  {
   "cell_type": "code",
   "execution_count": null,
   "id": "3efd4750-15f6-4bf4-94d3-b036404d7c17",
   "metadata": {},
   "outputs": [],
   "source": []
  }
 ],
 "metadata": {
  "kernelspec": {
   "display_name": "Python [conda env:base] *",
   "language": "python",
   "name": "conda-base-py"
  },
  "language_info": {
   "codemirror_mode": {
    "name": "ipython",
    "version": 3
   },
   "file_extension": ".py",
   "mimetype": "text/x-python",
   "name": "python",
   "nbconvert_exporter": "python",
   "pygments_lexer": "ipython3",
   "version": "3.12.7"
  }
 },
 "nbformat": 4,
 "nbformat_minor": 5
}
