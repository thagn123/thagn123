{
 "cells": [
  {
   "cell_type": "code",
   "execution_count": 5,
   "id": "4e2e4621-6b46-4852-92ee-0e85120b41b6",
   "metadata": {},
   "outputs": [],
   "source": [
    "import os\n",
    "import re\n",
    "import PyPDF2"
   ]
  },
  {
   "cell_type": "code",
   "execution_count": 3,
   "id": "8775fcf5-d0e7-4157-a3bc-f35eb209826d",
   "metadata": {},
   "outputs": [
    {
     "name": "stdout",
     "output_type": "stream",
     "text": [
      "Collecting PyPDF2\n",
      "  Downloading pypdf2-3.0.1-py3-none-any.whl.metadata (6.8 kB)\n",
      "Downloading pypdf2-3.0.1-py3-none-any.whl (232 kB)\n",
      "Installing collected packages: PyPDF2\n",
      "Successfully installed PyPDF2-3.0.1\n"
     ]
    }
   ],
   "source": [
    "!pip install PyPDF2"
   ]
  },
  {
   "cell_type": "code",
   "execution_count": 27,
   "id": "2f21f3b6-7423-45fd-bc68-a946aaa76147",
   "metadata": {},
   "outputs": [],
   "source": [
    "def extract_text_from_pdf(pdf_path):\n",
    "    \"\"\"Trích xuất toàn bộ văn bản từ file PDF\"\"\"\n",
    "    text = \"\"\n",
    "    with open(pdf_path, \"rb\") as f:\n",
    "        pdf_reader = PyPDF2.PdfReader(f)\n",
    "        for page in pdf_reader.pages:\n",
    "            page_text = page.extract_text()\n",
    "            if page_text:\n",
    "                text += page_text + \"\\n\"\n",
    "    return text"
   ]
  },
  {
   "cell_type": "code",
   "execution_count": 43,
   "id": "bdbe6213-7be0-4dfd-b63a-3e79d59e8f52",
   "metadata": {},
   "outputs": [],
   "source": [
    "#Sửa lỗi văn bản \n",
    "def sanitize_filename(filename):\n",
    "    \"\"\"Làm sạch tên file để tránh lỗi khi lưu\"\"\"\n",
    "    filename = filename.replace(\"\\n\", \" \").replace(\" \", \"_\")\n",
    "    filename = re.sub(r'[^\\w\\s-]', '', filename).strip(\"_\")\n",
    "    return filename"
   ]
  },
  {
   "cell_type": "code",
   "execution_count": 45,
   "id": "a62cef3b-2686-4996-b7f8-909eb0760b6b",
   "metadata": {},
   "outputs": [],
   "source": [
    "def split_into_chapters(text):\n",
    "    chapter_pattern = r'(Chương\\s+[IVXLC\\d]+)'\n",
    "    parts = re.split(chapter_pattern, text)\n",
    "    chapters = []\n",
    "    for i in range(0, len(parts), 2):\n",
    "        chapter_label = sanitize_filename(parts[i].strip())\n",
    "        chapter_content = parts[i+1].strip() if i+1 <(parts) else \"\"\n",
    "        chapters.aappend((chapter_label, chapter_content))\n",
    "    return chapters"
   ]
  },
  {
   "cell_type": "code",
   "execution_count": 47,
   "id": "99502013-e9a5-4f22-b5a5-2871bde0ebdb",
   "metadata": {},
   "outputs": [],
   "source": [
    "def split_chapter_into_articles(chapter_text):\n",
    "    \"\"\"Tách từng Chương thành các Điều luật\"\"\"\n",
    "    article_pattern = r'(Điều\\s+\\d+)'\n",
    "    parts = re.split(article_pattern, chapter_text)\n",
    "    articles = []\n",
    "    \n",
    "    if len(parts) == 1:\n",
    "        articles.append((\"Toàn_Chương\", chapter_text))\n",
    "        return articles\n",
    "    \n",
    "    if parts[0].strip():\n",
    "        articles.append((\"Giới_thiệu_chương\", parts[0].strip()))\n",
    "    \n",
    "    for i in range(1, len(parts), 2):\n",
    "        article_label = sanitize_filename(parts[i].strip())\n",
    "        article_content = parts[i+1].strip() if i+1 < len(parts) else \"\"\n",
    "        articles.append((article_label, article_content))\n",
    "    \n",
    "    return articles"
   ]
  },
  {
   "cell_type": "code",
   "execution_count": 49,
   "id": "e6641101-cd8a-44a2-8d08-2dcbcb67cdb8",
   "metadata": {},
   "outputs": [],
   "source": [
    "def process_pdf_file(pdf_file, output_folder):\n",
    "    \"\"\"\n",
    "    Xử lý file PDF đơn lẻ:\n",
    "      - Trích xuất nội dung.\n",
    "      - Tạo folder cho bộ luật dựa trên tên file PDF (sau khi làm sạch).\n",
    "      - Lưu toàn bộ nội dung vào một file *_full.txt.\n",
    "      - Tách nội dung thành các chương và bên trong tách thành các Điều, lưu thành các file riêng.\n",
    "    \"\"\"\n",
    "    # Lấy tên file (không bao gồm phần mở rộng) và làm sạch\n",
    "    law_name = os.path.splitext(os.path.basename(pdf_file))[0]\n",
    "    law_folder = os.path.join(output_folder, sanitize_filename(law_name))\n",
    "    if not os.path.exists(law_folder):\n",
    "        os.makedirs(law_folder)\n",
    "    \n",
    "    # Trích xuất nội dung từ PDF\n",
    "    full_text = extract_text_from_pdf(pdf_file)\n",
    "    \n",
    "    # Lưu toàn bộ nội dung của bộ luật thành file *_full.txt\n",
    "    full_text_path = os.path.join(law_folder, f\"{sanitize_filename(law_name)}_full.txt\")\n",
    "    with open(full_text_path, \"w\", encoding=\"utf-8\") as f:\n",
    "        f.write(full_text)\n",
    "    \n",
    "    # Tách theo chương\n",
    "    chapters = split_into_chapters(full_text)\n",
    "    for chapter_label, chapter_content in chapters:\n",
    "        chapter_folder = os.path.join(law_folder, chapter_label)\n",
    "        if not os.path.exists(chapter_folder):\n",
    "            os.makedirs(chapter_folder)\n",
    "        \n",
    "        # Tách từng chương thành các Điều và lưu thành file riêng\n",
    "        articles = split_chapter_into_articles(chapter_content)\n",
    "        for article_label, article_content in articles:\n",
    "            if not article_label:\n",
    "                article_label = \"Unlabeled\"\n",
    "            file_name = f\"{article_label}.txt\"\n",
    "            file_path = os.path.join(chapter_folder, file_name)\n",
    "            with open(file_path, \"w\", encoding=\"utf-8\") as f:\n",
    "                f.write(article_content)\n",
    "            print(f\"Lưu file: {file_path}\")"
   ]
  },
  {
   "cell_type": "code",
   "execution_count": 51,
   "id": "a61f714b-50b8-44a1-8a8a-70887ad6c30b",
   "metadata": {},
   "outputs": [],
   "source": [
    "def process_all_pdf_files(input_folder, output_folder):\n",
    "    \"\"\"\n",
    "    Duyệt qua tất cả các file PDF trong thư mục input_folder (bao gồm cả thư mục con)\n",
    "    và xử lý từng file bằng hàm process_pdf_file.\n",
    "    \"\"\"\n",
    "    for root, dirs, files in os.walk(input_folder):\n",
    "        for file in files:\n",
    "            if file.lower().endswith(\".pdf\"):\n",
    "                pdf_path = os.path.join(root, file)\n",
    "                print(f\"Đang xử lý file: {pdf_path}\")\n",
    "                try:\n",
    "                    process_pdf_file(pdf_path, output_folder)\n",
    "                except Exception as e:\n",
    "                    print(f\"Lỗi khi xử lý {pdf_path}: {e}\")"
   ]
  },
  {
   "cell_type": "code",
   "execution_count": 58,
   "id": "7005b228-2f0a-4864-a57a-c3de9c46266e",
   "metadata": {},
   "outputs": [],
   "source": [
    "def test_pdf_file_handling(pdf_path):\n",
    "    \"\"\"Kiểm tra việc xử lý file PDF có lỗi dữ liệu không.\"\"\"\n",
    "    try:\n",
    "        with open(pdf_path, \"rb\") as f:\n",
    "            pdf_reader = PyPDF2.PdfReader(f)\n",
    "            for page in pdf_reader.pages:\n",
    "                print(page.extract_text())\n",
    "    except Exception as e:\n",
    "        print(f\"Lỗi trong file PDF: {e}\")\n",
    "\n",
    "input_folder = r\"law_prediction-master\\data_crawl\"\n",
    "for root, dirs, files in os.walk(input_folder):\n",
    "    for file in files:\n",
    "        if file.endswith(\".pdf\"):\n",
    "            pdf_path = os.path.join(root, file)\n",
    "            print(f\"Đang kiểm tra file: {pdf_path}\")\n",
    "            test_pdf_file_handling(pdf_path)"
   ]
  },
  {
   "cell_type": "code",
   "execution_count": 60,
   "id": "9675dfdc-ebb6-40a1-bf64-9ad6fa2dc740",
   "metadata": {},
   "outputs": [
    {
     "name": "stdout",
     "output_type": "stream",
     "text": [
      "Đang xử lý file: law_prediction-master/law_prediction-master/data_crawl\\bo_luat_dan_su\\bo_luat_dan_su.pdf\n",
      "Lỗi khi xử lý law_prediction-master/law_prediction-master/data_crawl\\bo_luat_dan_su\\bo_luat_dan_su.pdf: '<' not supported between instances of 'int' and 'list'\n",
      "Đang xử lý file: law_prediction-master/law_prediction-master/data_crawl\\bo_luat_to_tung_hinh_su\\to_tung_hinh_su.pdf\n",
      "Lỗi khi xử lý law_prediction-master/law_prediction-master/data_crawl\\bo_luat_to_tung_hinh_su\\to_tung_hinh_su.pdf: '<' not supported between instances of 'int' and 'list'\n"
     ]
    }
   ],
   "source": [
    "input_folder = \"law_prediction-master/law_prediction-master/data_crawl\" \n",
    "output_folder = \"data_train\"  \n",
    "if not os.path.exists(output_folder):\n",
    "    os.makedirs(output_folder)    \n",
    "process_all_pdf_files(input_folder, output_folder)"
   ]
  },
  {
   "cell_type": "code",
   "execution_count": null,
   "id": "d93edfdc-1f74-4660-8947-b4d094b8a023",
   "metadata": {},
   "outputs": [],
   "source": []
  }
 ],
 "metadata": {
  "kernelspec": {
   "display_name": "Python [conda env:base] *",
   "language": "python",
   "name": "conda-base-py"
  },
  "language_info": {
   "codemirror_mode": {
    "name": "ipython",
    "version": 3
   },
   "file_extension": ".py",
   "mimetype": "text/x-python",
   "name": "python",
   "nbconvert_exporter": "python",
   "pygments_lexer": "ipython3",
   "version": "3.12.7"
  }
 },
 "nbformat": 4,
 "nbformat_minor": 5
}
